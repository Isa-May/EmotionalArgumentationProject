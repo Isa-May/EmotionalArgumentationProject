{
 "cells": [
  {
   "cell_type": "code",
   "execution_count": null,
   "metadata": {
    "collapsed": true
   },
   "outputs": [],
   "source": [
    "import pandas as pd"
   ]
  },
  {
   "cell_type": "code",
   "execution_count": null,
   "outputs": [],
   "source": [
    "combined_train_dev = pd.read_csv(r'/YOUR_FILE_PATH')\n",
    "combined_test = pd.read_csv(r'/YOUR_FILE_PATH')\n",
    "combined_all = [combined_train_dev, combined_test]\n",
    "combined_all = pd.concat(combined_all)\n",
    "print(combined_all)"
   ],
   "metadata": {
    "collapsed": false,
    "pycharm": {
     "name": "#%%\n"
    }
   }
  },
  {
   "cell_type": "code",
   "execution_count": null,
   "outputs": [],
   "source": [
    "emotions_list = ['neutral', 'anger', 'disgust', 'fear', 'sadness', 'happiness', 'joy', 'guilt', 'shame', 'optimism']\n",
    "emotions_dict = {i: emotions_list[i] for i in range(0, len(emotions_list))}\n",
    "print(emotions_dict)\n",
    "colors_list = ['black', 'red', 'green', 'blue', 'cyan', 'yellow', 'lightgreen', 'orange', 'grey', 'lightblue']\n",
    "colors_dict = {i: colors_list[i] for i in range(0, len(colors_list))}\n",
    "print(colors_dict)"
   ],
   "metadata": {
    "collapsed": false,
    "pycharm": {
     "name": "#%%\n"
    }
   }
  },
  {
   "cell_type": "code",
   "execution_count": null,
   "outputs": [],
   "source": [
    "SemEv18 = combined_all[combined_all['Source'] == 'SemEv18']\n",
    "print(SemEv18)\n"
   ],
   "metadata": {
    "collapsed": false,
    "pycharm": {
     "name": "#%%\n"
    }
   }
  },
  {
   "cell_type": "code",
   "execution_count": null,
   "outputs": [],
   "source": [
    "def give_color_and_label(label_):\n",
    "    list_with_emo_labels = []\n",
    "    list_with_emo_colors = []\n",
    "\n",
    "    for label in label_:\n",
    "        if label == 0:\n",
    "            emo_label = 'neutral'\n",
    "            emo_color = 'black'\n",
    "            list_with_emo_labels.append(emo_label)\n",
    "            list_with_emo_colors.append(emo_color)\n",
    "\n",
    "        elif label == 1:\n",
    "            emo_label = 'anger'\n",
    "            emo_color = 'red'\n",
    "            list_with_emo_labels.append(emo_label)\n",
    "            list_with_emo_colors.append(emo_color)\n",
    "\n",
    "        elif label == 2:\n",
    "            emo_label = 'disgust'\n",
    "            emo_color = 'green'\n",
    "            list_with_emo_labels.append(emo_label)\n",
    "            list_with_emo_colors.append(emo_color)\n",
    "\n",
    "        elif label == 3:\n",
    "            emo_label = 'fear'\n",
    "            emo_color = 'blue'\n",
    "            list_with_emo_labels.append(emo_label)\n",
    "            list_with_emo_colors.append(emo_color)\n",
    "            print(list_with_emo_labels)\n",
    "            print(list_with_emo_colors)\n",
    "        elif label == 4:\n",
    "            emo_label = 'sadness'\n",
    "            emo_color = 'cyan'\n",
    "            list_with_emo_labels.append(emo_label)\n",
    "            list_with_emo_colors.append(emo_color)\n",
    "        elif label == 5:\n",
    "            emo_label = 'happiness'\n",
    "            emo_color = 'yellow'\n",
    "            list_with_emo_labels.append(emo_label)\n",
    "            list_with_emo_colors.append(emo_color)\n",
    "        elif label == 6:\n",
    "            emo_label = 'joy'\n",
    "            emo_color = 'lightgreen'\n",
    "            list_with_emo_labels.append(emo_label)\n",
    "            list_with_emo_colors.append(emo_color)\n",
    "        elif label == 7:\n",
    "            emo_label = 'guilt'\n",
    "            emo_color = 'orange'\n",
    "            list_with_emo_labels.append(emo_label)\n",
    "            list_with_emo_colors.append(emo_color)\n",
    "        elif label == 8:\n",
    "            emo_label = 'shame'\n",
    "            emo_color = 'grey'\n",
    "            list_with_emo_labels.append(emo_label)\n",
    "            list_with_emo_colors.append(emo_color)\n",
    "        elif label == 9:\n",
    "            emo_label = 'optimism'\n",
    "            emo_color = 'lightblue'\n",
    "            list_with_emo_labels.append(emo_label)\n",
    "            list_with_emo_colors.append(emo_color)\n",
    "\n",
    "    return list_with_emo_labels, list_with_emo_colors\n"
   ],
   "metadata": {
    "collapsed": false,
    "pycharm": {
     "name": "#%%\n"
    }
   }
  },
  {
   "cell_type": "code",
   "execution_count": null,
   "outputs": [],
   "source": [
    "from collections import Counter\n",
    "from collections import OrderedDict\n",
    "\n",
    "#values of emotions\n",
    "emotions = SemEv18['Emotion']\n",
    "emotions = emotions.values.tolist()\n",
    "\n",
    "emotions = Counter(emotions)\n",
    "emotions = dict(emotions)\n",
    "emotions = OrderedDict(sorted(emotions.items()))\n",
    "emotions = dict(emotions)\n",
    "print('emotions_dict')\n",
    "print(emotions)\n",
    "\n",
    "values = list(emotions.items())\n",
    "print(values)\n",
    "\n",
    "pie_vals_SemEv18 = []\n",
    "for val_ in values:\n",
    "    element = val_[1]\n",
    "    pie_vals_SemEv18.append(element)\n",
    "print(pie_vals_SemEv18)\n",
    "\n",
    "#sum and percentage pie vals\n",
    "entire = sum(pie_vals_SemEv18)\n",
    "\n",
    "pie_perc_SemEv18 = []\n",
    "for val_ in values:\n",
    "    element = val_[1] * (1 / entire) * 100\n",
    "    element = np.round(element, 2)\n",
    "\n",
    "    #    element = \"{:d}%\".format(element)\n",
    "    pie_perc_SemEv18.append(element)\n",
    "print(pie_perc_SemEv18)\n",
    "\n",
    "for ind, i in enumerate(pie_perc_SemEv18):\n",
    "    pie_perc_SemEv18[ind] = \"{}%\".format(i)\n",
    "print(pie_perc_SemEv18)\n",
    "\n",
    "pie_labels_SemEv18 = []\n",
    "for val_ in values:\n",
    "    element = val_[0]\n",
    "    pie_labels_SemEv18.append(element)\n",
    "print(pie_labels_SemEv18)\n",
    "title = 'SemEv18'\n",
    "\n",
    "zipped_labels = list(zip(pie_vals_SemEv18, pie_perc_SemEv18))\n",
    "print(zipped_labels)"
   ],
   "metadata": {
    "collapsed": false,
    "pycharm": {
     "name": "#%%\n"
    }
   }
  },
  {
   "cell_type": "code",
   "execution_count": null,
   "outputs": [],
   "source": [
    "#print(pie_labels_SemEv18)\n",
    "pie_labels_SemEv18, colors = give_color_and_label(pie_labels_SemEv18)\n",
    "print(pie_labels_SemEv18)\n",
    "print(colors)\n",
    "#print(val)\n",
    "zipped_labels = list(zip(pie_labels_SemEv18, zipped_labels))\n",
    "print(zipped_labels)\n"
   ],
   "metadata": {
    "collapsed": false,
    "pycharm": {
     "name": "#%%\n"
    }
   }
  },
  {
   "cell_type": "code",
   "execution_count": null,
   "outputs": [],
   "source": [
    "import numpy as np\n",
    "import matplotlib.pyplot as plt\n",
    "\n",
    "#source: matplotlib\n",
    "fig, ax = plt.subplots(figsize=(6, 3), subplot_kw=dict(aspect=\"equal\"))\n",
    "\n",
    "recipe = pie_labels_SemEv18\n",
    "\n",
    "data = pie_vals_SemEv18\n",
    "\n",
    "wedges, texts = ax.pie(data, wedgeprops=dict(width=0.5), startangle=-50, colors=colors)\n",
    "\n",
    "bbox_props = dict(boxstyle=\"square,pad=0.3\", fc=\"w\", ec=\"k\", lw=0.72)\n",
    "kw = dict(arrowprops=dict(arrowstyle=\"-\"),\n",
    "          bbox=bbox_props, zorder=0, va=\"center\")\n",
    "\n",
    "for i, p in enumerate(wedges):\n",
    "    ang = (p.theta2 - p.theta1) / 2. + p.theta1\n",
    "    y = np.sin(np.deg2rad(ang))\n",
    "    x = np.cos(np.deg2rad(ang))\n",
    "    horizontalalignment = {-1: \"right\", 1: \"left\"}[int(np.sign(x))]\n",
    "    connectionstyle = \"angle,angleA=0,angleB={}\".format(ang)\n",
    "    kw[\"arrowprops\"].update({\"connectionstyle\": connectionstyle})\n",
    "    ax.annotate(recipe[i], xy=(x, y), xytext=(1.35 * np.sign(x), 1.4 * y),\n",
    "                horizontalalignment=horizontalalignment, **kw)\n",
    "\n",
    "ax.set_title(\"SemEv18\")\n",
    "\n",
    "plt.show()"
   ],
   "metadata": {
    "collapsed": false,
    "pycharm": {
     "name": "#%%\n"
    }
   }
  },
  {
   "cell_type": "code",
   "execution_count": null,
   "outputs": [],
   "source": [],
   "metadata": {
    "collapsed": false,
    "pycharm": {
     "name": "#%%\n"
    }
   }
  }
 ],
 "metadata": {
  "kernelspec": {
   "display_name": "Python 3",
   "language": "python",
   "name": "python3"
  },
  "language_info": {
   "codemirror_mode": {
    "name": "ipython",
    "version": 2
   },
   "file_extension": ".py",
   "mimetype": "text/x-python",
   "name": "python",
   "nbconvert_exporter": "python",
   "pygments_lexer": "ipython2",
   "version": "2.7.6"
  }
 },
 "nbformat": 4,
 "nbformat_minor": 0
}